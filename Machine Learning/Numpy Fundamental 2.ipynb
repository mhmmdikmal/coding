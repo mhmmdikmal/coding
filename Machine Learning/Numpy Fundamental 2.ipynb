{
 "cells": [
  {
   "cell_type": "code",
   "execution_count": 234,
   "id": "ae8621c6-3dcc-4369-964d-bff908e057c7",
   "metadata": {},
   "outputs": [],
   "source": [
    "import numpy as np"
   ]
  },
  {
   "cell_type": "code",
   "execution_count": 236,
   "id": "80f46278-d914-45c2-859e-41cea6a2d6df",
   "metadata": {},
   "outputs": [
    {
     "data": {
      "text/plain": [
       "array([0.35212373, 0.14305841, 0.10663922, 0.67882477, 0.3464273 ,\n",
       "       0.41535902, 0.45735124])"
      ]
     },
     "execution_count": 236,
     "metadata": {},
     "output_type": "execute_result"
    }
   ],
   "source": [
    "# bilangan distribusi uniform (0-1)\n",
    "np.random.rand(7)"
   ]
  },
  {
   "cell_type": "code",
   "execution_count": 238,
   "id": "b40f967f-6594-4683-beb9-5f7c1849151c",
   "metadata": {},
   "outputs": [
    {
     "data": {
      "text/plain": [
       "array([[0.05974795, 0.91797543, 0.80406926, 0.77806328],\n",
       "       [0.05343181, 0.9445233 , 0.07248219, 0.46696193],\n",
       "       [0.40828088, 0.7605533 , 0.49743631, 0.13991351],\n",
       "       [0.53518166, 0.81274194, 0.19695765, 0.77826262],\n",
       "       [0.65280928, 0.88633746, 0.08336361, 0.57957924]])"
      ]
     },
     "execution_count": 238,
     "metadata": {},
     "output_type": "execute_result"
    }
   ],
   "source": [
    "# bilangan distribusi uniform (0-1) matriks 2 dimensi\n",
    "np.random.rand(5,4)"
   ]
  },
  {
   "cell_type": "code",
   "execution_count": 240,
   "id": "5a7158b3-0375-4139-831e-68c70fbedd85",
   "metadata": {},
   "outputs": [
    {
     "data": {
      "text/plain": [
       "array([0.09664595, 0.73415728, 0.80530134, 0.96987291, 0.78603548,\n",
       "       0.85079925, 0.76267657, 0.20429393, 0.86906006, 0.78093726])"
      ]
     },
     "execution_count": 240,
     "metadata": {},
     "output_type": "execute_result"
    }
   ],
   "source": [
    "# bilangan distribusi normal (gaussion)\n",
    "np.random.rand(10)"
   ]
  },
  {
   "cell_type": "code",
   "execution_count": 242,
   "id": "c6214f3b-2fa2-4a4d-8f5f-6eb2b87469c9",
   "metadata": {},
   "outputs": [
    {
     "data": {
      "text/plain": [
       "array([[0.39571635, 0.49311772, 0.98505137, 0.20192107],\n",
       "       [0.19030123, 0.94037661, 0.121107  , 0.38939145],\n",
       "       [0.66450983, 0.97859917, 0.13192708, 0.49459049],\n",
       "       [0.15440796, 0.27972537, 0.2753383 , 0.68403746]])"
      ]
     },
     "execution_count": 242,
     "metadata": {},
     "output_type": "execute_result"
    }
   ],
   "source": [
    "# bilangan distribusi normal (gaussion) matriks 2 dimensi\n",
    "np.random.rand(4,4)"
   ]
  },
  {
   "cell_type": "code",
   "execution_count": 244,
   "id": "d775dee8-e24a-4238-a7c0-5b3fc8276882",
   "metadata": {},
   "outputs": [],
   "source": [
    "from numpy.random import rand, randn, randint"
   ]
  },
  {
   "cell_type": "code",
   "execution_count": 20,
   "id": "8944cd5d-1bf5-482e-9f6c-4377f0c56f3f",
   "metadata": {},
   "outputs": [
    {
     "data": {
      "text/plain": [
       "array([[ 1.15200072, -0.43448395],\n",
       "       [ 0.31501526, -2.0502901 ],\n",
       "       [ 0.30052181,  1.99252339],\n",
       "       [-0.20388068, -0.49252854],\n",
       "       [-0.16560687, -0.81572176],\n",
       "       [-2.08198347,  0.30928838]])"
      ]
     },
     "execution_count": 20,
     "metadata": {},
     "output_type": "execute_result"
    }
   ],
   "source": [
    "randn(6,2)"
   ]
  },
  {
   "cell_type": "code",
   "execution_count": 22,
   "id": "0af938e0-f00f-496d-8270-53eae1dba345",
   "metadata": {},
   "outputs": [
    {
     "data": {
      "text/plain": [
       "9"
      ]
     },
     "execution_count": 22,
     "metadata": {},
     "output_type": "execute_result"
    }
   ],
   "source": [
    "randint(5,10) #menghasilkan random output antara 5 sampai 10"
   ]
  },
  {
   "cell_type": "code",
   "execution_count": 58,
   "id": "5af402ee-ba44-4db4-94ad-2d4f655aa2f8",
   "metadata": {},
   "outputs": [
    {
     "data": {
      "text/plain": [
       "array([98, 42,  9, 45, 73, 52, 84, 49, 77, 25,  6, 55, 60, 16, 17, 74, 35,\n",
       "       31, 37, 15])"
      ]
     },
     "execution_count": 58,
     "metadata": {},
     "output_type": "execute_result"
    }
   ],
   "source": [
    "randint(0,100,20) # bilangan dari 0-100 sebanyak 20"
   ]
  },
  {
   "cell_type": "code",
   "execution_count": 296,
   "id": "e2e548aa-5c91-4850-aecc-07e0a10bce6e",
   "metadata": {},
   "outputs": [],
   "source": [
    "bilangan = randint (0,100,20).reshape(4, 5)\n",
    "# create variabel untuk membuat matriks 2 dimensi"
   ]
  },
  {
   "cell_type": "code",
   "execution_count": 298,
   "id": "518e1118-0a4b-4e0c-affe-0213d0323287",
   "metadata": {},
   "outputs": [
    {
     "data": {
      "text/plain": [
       "array([[98, 39, 92, 99, 78],\n",
       "       [56, 94, 47, 98, 28],\n",
       "       [88, 30, 24, 51, 86],\n",
       "       [28, 54, 15, 88,  4]])"
      ]
     },
     "execution_count": 298,
     "metadata": {},
     "output_type": "execute_result"
    }
   ],
   "source": [
    "bilangan.reshape(4,5) #matriks 2 dimensi"
   ]
  },
  {
   "cell_type": "code",
   "execution_count": 300,
   "id": "c7d58baa-6584-4f10-95ae-27b5699c2d62",
   "metadata": {},
   "outputs": [
    {
     "data": {
      "text/plain": [
       "99"
      ]
     },
     "execution_count": 300,
     "metadata": {},
     "output_type": "execute_result"
    }
   ],
   "source": [
    "bilangan.max()"
   ]
  },
  {
   "cell_type": "code",
   "execution_count": 302,
   "id": "20855fd4-4eaa-49c9-9e02-90a9e77d8cc0",
   "metadata": {},
   "outputs": [
    {
     "data": {
      "text/plain": [
       "4"
      ]
     },
     "execution_count": 302,
     "metadata": {},
     "output_type": "execute_result"
    }
   ],
   "source": [
    "bilangan.min()"
   ]
  },
  {
   "cell_type": "code",
   "execution_count": 304,
   "id": "94c5237b-07c8-4bc1-a1ad-4acb4f3f1f2d",
   "metadata": {},
   "outputs": [
    {
     "data": {
      "text/plain": [
       "3"
      ]
     },
     "execution_count": 304,
     "metadata": {},
     "output_type": "execute_result"
    }
   ],
   "source": [
    "bilangan.argmax()"
   ]
  },
  {
   "cell_type": "code",
   "execution_count": 306,
   "id": "80fb48dc-ea36-4ec3-b70e-7a882ef56d34",
   "metadata": {},
   "outputs": [
    {
     "data": {
      "text/plain": [
       "19"
      ]
     },
     "execution_count": 306,
     "metadata": {},
     "output_type": "execute_result"
    }
   ],
   "source": [
    "bilangan.argmin()"
   ]
  },
  {
   "cell_type": "code",
   "execution_count": 308,
   "id": "07fcecff-ae40-4850-b064-61d4037e170c",
   "metadata": {},
   "outputs": [
    {
     "data": {
      "text/plain": [
       "dtype('int32')"
      ]
     },
     "execution_count": 308,
     "metadata": {},
     "output_type": "execute_result"
    }
   ],
   "source": [
    "bilangan.dtype"
   ]
  },
  {
   "cell_type": "code",
   "execution_count": 310,
   "id": "4819001f-c155-4289-9b7c-67e0e2943353",
   "metadata": {},
   "outputs": [
    {
     "data": {
      "text/plain": [
       "(4, 5)"
      ]
     },
     "execution_count": 310,
     "metadata": {},
     "output_type": "execute_result"
    }
   ],
   "source": [
    "bilangan.shape"
   ]
  },
  {
   "cell_type": "code",
   "execution_count": null,
   "id": "090f58a6-4371-47ad-ad18-e0ddfac1ed56",
   "metadata": {},
   "outputs": [],
   "source": []
  }
 ],
 "metadata": {
  "kernelspec": {
   "display_name": "Python [conda env:base] *",
   "language": "python",
   "name": "conda-base-py"
  },
  "language_info": {
   "codemirror_mode": {
    "name": "ipython",
    "version": 3
   },
   "file_extension": ".py",
   "mimetype": "text/x-python",
   "name": "python",
   "nbconvert_exporter": "python",
   "pygments_lexer": "ipython3",
   "version": "3.12.3"
  }
 },
 "nbformat": 4,
 "nbformat_minor": 5
}
