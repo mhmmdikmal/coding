{
 "cells": [
  {
   "cell_type": "code",
   "execution_count": 2,
   "id": "5b5e98e1-a848-4dec-a453-b4d34e2e42d5",
   "metadata": {},
   "outputs": [],
   "source": [
    "import pandas as pd\n",
    "import numpy as np\n",
    "from surprise import Dataset, Reader, SVD\n",
    "from surprise.model_selection import train_test_split"
   ]
  },
  {
   "cell_type": "code",
   "execution_count": 4,
   "id": "ef158c8f-e862-4cb6-8896-e21849cc1248",
   "metadata": {},
   "outputs": [
    {
     "data": {
      "text/plain": [
       "['Close Shave, A (1995)',\n",
       " 'Wallace & Gromit: The Best of Aardman Animation (1996)',\n",
       " 'Some Folks Call It a Sling Blade (1993)',\n",
       " 'Wrong Trousers, The (1993)',\n",
       " 'To Kill a Mockingbird (1962)',\n",
       " \"Schindler's List (1993)\",\n",
       " 'Killing Fields, The (1984)',\n",
       " 'As Good As It Gets (1997)',\n",
       " 'Ran (1985)',\n",
       " 'Jean de Florette (1986)']"
      ]
     },
     "execution_count": 4,
     "metadata": {},
     "output_type": "execute_result"
    }
   ],
   "source": [
    "# Load data rating\n",
    "ratings = pd.read_csv(\"ml-100k/u.data\", sep=\"\\t\", names=[\"user_id\", \"movie_id\", \"rating\", \"timestamp\"])\n",
    "\n",
    "# Load data film\n",
    "movies = pd.read_csv(\"ml-100k/u.item\", sep=\"|\", encoding=\"latin-1\", header=None)\n",
    "movies = movies[[0, 1]]  # Ambil hanya movie_id dan title\n",
    "movies.columns = [\"movie_id\", \"title\"]\n",
    "\n",
    "# Gabungkan data rating dengan data film\n",
    "df = pd.merge(ratings, movies, on=\"movie_id\")\n",
    "df.drop(columns=[\"timestamp\"], inplace=True)  # Hapus kolom timestamp\n",
    "\n",
    "# Persiapkan data untuk Surprise\n",
    "reader = Reader(rating_scale=(1, 5))  # Skala rating 1-5\n",
    "data = Dataset.load_from_df(df[[\"user_id\", \"movie_id\", \"rating\"]], reader)\n",
    "\n",
    "# Split data untuk training & testing\n",
    "trainset, testset = train_test_split(data, test_size=0.2)\n",
    "\n",
    "# Buat model SVD\n",
    "model = SVD()\n",
    "model.fit(trainset)\n",
    "\n",
    "def recommend_movies(user_id, model, df, top_n=10):\n",
    "    # Dapatkan semua movie_id yang tersedia\n",
    "    movie_ids = df[\"movie_id\"].unique()\n",
    "\n",
    "    # Cari film yang belum ditonton oleh user\n",
    "    watched_movies = df[df[\"user_id\"] == user_id][\"movie_id\"].values\n",
    "    unseen_movies = [mid for mid in movie_ids if mid not in watched_movies]\n",
    "\n",
    "    # Prediksi rating untuk semua film yang belum ditonton\n",
    "    predictions = [model.predict(user_id, mid) for mid in unseen_movies]\n",
    "    \n",
    "    # Urutkan berdasarkan rating tertinggi\n",
    "    predictions.sort(key=lambda x: x.est, reverse=True)\n",
    "    \n",
    "    # Ambil top_n film\n",
    "    top_movies = predictions[:top_n]\n",
    "    \n",
    "    # Ambil judul film dari hasil rekomendasi\n",
    "    recommended_titles = [movies[movies[\"movie_id\"] == pred.iid][\"title\"].values[0] for pred in top_movies]\n",
    "    \n",
    "    return recommended_titles\n",
    "\n",
    "recommend_movies(10, model, df)"
   ]
  },
  {
   "cell_type": "code",
   "execution_count": 5,
   "id": "ad60bd37-2f00-4c9a-b39a-0f45c0bf139e",
   "metadata": {},
   "outputs": [
    {
     "name": "stdout",
     "output_type": "stream",
     "text": [
      " * Serving Flask app '__main__'\n",
      " * Debug mode: on\n"
     ]
    },
    {
     "name": "stderr",
     "output_type": "stream",
     "text": [
      "WARNING: This is a development server. Do not use it in a production deployment. Use a production WSGI server instead.\n",
      " * Running on http://127.0.0.1:5000\n",
      "Press CTRL+C to quit\n",
      " * Restarting with watchdog (windowsapi)\n"
     ]
    },
    {
     "ename": "SystemExit",
     "evalue": "1",
     "output_type": "error",
     "traceback": [
      "An exception has occurred, use %tb to see the full traceback.\n",
      "\u001b[1;31mSystemExit\u001b[0m\u001b[1;31m:\u001b[0m 1\n"
     ]
    },
    {
     "name": "stderr",
     "output_type": "stream",
     "text": [
      "C:\\Users\\ikmal\\anaconda3\\Lib\\site-packages\\IPython\\core\\interactiveshell.py:3585: UserWarning: To exit: use 'exit', 'quit', or Ctrl-D.\n",
      "  warn(\"To exit: use 'exit', 'quit', or Ctrl-D.\", stacklevel=1)\n"
     ]
    }
   ],
   "source": [
    "from flask import Flask, request, jsonify\n",
    "import pandas as pd\n",
    "from surprise import Dataset, Reader, SVD\n",
    "\n",
    "app = Flask(__name__)\n",
    "\n",
    "# Load dataset rating (pastikan file sudah ada)\n",
    "ratings = pd.read_csv(\"ml-100k/u.data\", sep=\"\\t\", names=[\"user_id\", \"movie_id\", \"rating\", \"timestamp\"])\n",
    "reader = Reader(line_format=\"user item rating timestamp\", sep=\"\\t\")\n",
    "data = Dataset.load_from_df(ratings[[\"user_id\", \"movie_id\", \"rating\"]], reader)\n",
    "\n",
    "# Latih model rekomendasi\n",
    "model = SVD()\n",
    "trainset = data.build_full_trainset()\n",
    "model.fit(trainset)\n",
    "\n",
    "# API untuk merekomendasikan film berdasarkan user_id\n",
    "@app.route(\"/recommend\", methods=[\"GET\"])\n",
    "def recommend():\n",
    "    user_id = int(request.args.get(\"user_id\"))\n",
    "    movie_ids = ratings[\"movie_id\"].unique()\n",
    "    \n",
    "    # Prediksi rating untuk semua film\n",
    "    predictions = [(movie, model.predict(user_id, movie).est) for movie in movie_ids]\n",
    "    \n",
    "    # Urutkan film dengan prediksi rating tertinggi\n",
    "    recommendations = sorted(predictions, key=lambda x: x[1], reverse=True)[:5]\n",
    "    \n",
    "    return jsonify({\"user_id\": user_id, \"recommendations\": recommendations})\n",
    "\n",
    "if __name__ == \"__main__\":\n",
    "    app.run(debug=True)\n"
   ]
  },
  {
   "cell_type": "code",
   "execution_count": 6,
   "id": "c2526e85-9d44-4508-8094-7dae6e307f17",
   "metadata": {},
   "outputs": [
    {
     "name": "stdout",
     "output_type": "stream",
     "text": [
      "4.591543375988051\n"
     ]
    }
   ],
   "source": [
    "pred = model.predict(uid=10, iid=50)\n",
    "print(pred.est)  # Hasil estimasi rating\n"
   ]
  },
  {
   "cell_type": "code",
   "execution_count": 8,
   "id": "11e45c75-4123-4f64-bb8c-76e624f4ebe8",
   "metadata": {},
   "outputs": [
    {
     "name": "stdout",
     "output_type": "stream",
     "text": [
      "RMSE: 0.6746\n",
      "RMSE: 0.6745994618494232\n"
     ]
    }
   ],
   "source": [
    "from surprise import accuracy\n",
    "\n",
    "predictions = model.test(testset)\n",
    "rmse = accuracy.rmse(predictions)\n",
    "print(f\"RMSE: {rmse}\")\n"
   ]
  },
  {
   "cell_type": "code",
   "execution_count": 10,
   "id": "c8b73150-adba-4b4d-8775-44b3b62815bc",
   "metadata": {},
   "outputs": [
    {
     "data": {
      "text/html": [
       "<div>\n",
       "<style scoped>\n",
       "    .dataframe tbody tr th:only-of-type {\n",
       "        vertical-align: middle;\n",
       "    }\n",
       "\n",
       "    .dataframe tbody tr th {\n",
       "        vertical-align: top;\n",
       "    }\n",
       "\n",
       "    .dataframe thead th {\n",
       "        text-align: right;\n",
       "    }\n",
       "</style>\n",
       "<table border=\"1\" class=\"dataframe\">\n",
       "  <thead>\n",
       "    <tr style=\"text-align: right;\">\n",
       "      <th></th>\n",
       "      <th>movie_id</th>\n",
       "      <th>title</th>\n",
       "    </tr>\n",
       "  </thead>\n",
       "  <tbody>\n",
       "    <tr>\n",
       "      <th>312</th>\n",
       "      <td>313</td>\n",
       "      <td>Titanic (1997)</td>\n",
       "    </tr>\n",
       "  </tbody>\n",
       "</table>\n",
       "</div>"
      ],
      "text/plain": [
       "     movie_id           title\n",
       "312       313  Titanic (1997)"
      ]
     },
     "execution_count": 10,
     "metadata": {},
     "output_type": "execute_result"
    }
   ],
   "source": [
    "search_result = movies[movies[\"title\"].str.contains(\"titanic\", case=False, na=False)]\n",
    "search_result"
   ]
  },
  {
   "cell_type": "code",
   "execution_count": null,
   "id": "5a4f50d3-89b8-4fd8-9946-06989f9963a8",
   "metadata": {},
   "outputs": [],
   "source": []
  }
 ],
 "metadata": {
  "kernelspec": {
   "display_name": "Python [conda env:base] *",
   "language": "python",
   "name": "conda-base-py"
  },
  "language_info": {
   "codemirror_mode": {
    "name": "ipython",
    "version": 3
   },
   "file_extension": ".py",
   "mimetype": "text/x-python",
   "name": "python",
   "nbconvert_exporter": "python",
   "pygments_lexer": "ipython3",
   "version": "3.12.3"
  }
 },
 "nbformat": 4,
 "nbformat_minor": 5
}
