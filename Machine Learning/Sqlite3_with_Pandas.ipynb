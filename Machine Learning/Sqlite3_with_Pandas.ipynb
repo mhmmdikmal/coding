{
 "cells": [
  {
   "cell_type": "code",
   "execution_count": 121,
   "id": "58c508de-a9d0-4cd0-bb37-516990fcace5",
   "metadata": {},
   "outputs": [
    {
     "name": "stdout",
     "output_type": "stream",
     "text": [
      "Data berhasil ditambahkan ke tabel 'buku'.\n",
      "\n",
      "Data dalam tabel 'buku':\n",
      "   id_buku               judul pengarang       penerbit  tahun_terbit  \\\n",
      "0        1  Pemrograman Python     Unpas    Informatika          2021   \n",
      "1        2   Dasar-Dasar MySQL     Undip      Teknologi          2019   \n",
      "2        3      Manajemen Data     Unpad  Editing Skill          2020   \n",
      "\n",
      "   jumlah_stok  \n",
      "0           10  \n",
      "1            5  \n",
      "2            7  \n"
     ]
    }
   ],
   "source": [
    "import sqlite3\n",
    "import pandas as pd\n",
    "\n",
    "# Membuka atau membuat database SQLite\n",
    "conn = sqlite3.connect('perpustakaan.db')\n",
    "\n",
    "# Membuat tabel 'buku' jika belum ada\n",
    "cursor = conn.cursor()\n",
    "cursor.execute(\"\"\"\n",
    "CREATE TABLE IF NOT EXISTS buku (\n",
    "    id_buku INTEGER PRIMARY KEY,\n",
    "    judul TEXT,\n",
    "    pengarang TEXT,\n",
    "    penerbit TEXT,\n",
    "    tahun_terbit INTEGER,\n",
    "    jumlah_stok INTEGER\n",
    ")\n",
    "\"\"\")\n",
    "\n",
    "# Mengecek apakah tabel 'buku' kosong\n",
    "cursor.execute(\"SELECT COUNT(*) FROM buku\")\n",
    "count = cursor.fetchone()[0]\n",
    "\n",
    "# Menambahkan data hanya jika tabel kosong\n",
    "if count == 0:\n",
    "    cursor.executescript(\"\"\"\n",
    "    INSERT INTO buku (judul, pengarang, penerbit, tahun_terbit, jumlah_stok)\n",
    "    VALUES\n",
    "    ('Pemrograman Python', 'Unpas', 'Informatika', 2021, 10),\n",
    "    ('Dasar-Dasar MySQL', 'Undip', 'Teknologi', 2019, 5),\n",
    "    ('Manajemen Data', 'Unpad', 'Editing Skill', 2020, 7);\n",
    "    \"\"\")\n",
    "    print(\"Data berhasil ditambahkan ke tabel 'buku'.\")\n",
    "else:\n",
    "    print(\"Tabel 'buku' sudah memiliki data. Tidak menambahkan data baru.\")\n",
    "\n",
    "# Membaca data dari tabel 'buku' dan menampilkannya sebagai DataFrame\n",
    "df = pd.read_sql_query(\"SELECT * FROM buku\", conn)\n",
    "print(\"\\nData dalam tabel 'buku':\")\n",
    "print(df)\n",
    "\n",
    "# Menutup koneksi\n",
    "conn.close()\n"
   ]
  },
  {
   "cell_type": "code",
   "execution_count": 142,
   "id": "944ecd96-50ec-4059-bdeb-a283e01a93b0",
   "metadata": {},
   "outputs": [
    {
     "name": "stdout",
     "output_type": "stream",
     "text": [
      "Tabel 'buku' berhasil dihapus.\n"
     ]
    }
   ],
   "source": [
    "#menghapus data\n",
    "import sqlite3\n",
    "\n",
    "# Membuka atau membuat database SQLite\n",
    "conn = sqlite3.connect('perpustakaan.db')\n",
    "\n",
    "# Membuat cursor untuk mengeksekusi perintah SQL\n",
    "cursor = conn.cursor()\n",
    "\n",
    "# Menghapus tabel 'buku'\n",
    "cursor.execute(\"DROP TABLE IF EXISTS buku\")\n",
    "print(\"Tabel 'buku' berhasil dihapus.\")\n",
    "\n",
    "# Menutup koneksi\n",
    "conn.close()\n"
   ]
  },
  {
   "cell_type": "code",
   "execution_count": 144,
   "id": "1fc682de-554b-4750-81e8-d2302384b51d",
   "metadata": {},
   "outputs": [
    {
     "name": "stdout",
     "output_type": "stream",
     "text": [
      "\n",
      "Data dalam tabel 'buku':\n",
      "    nama  keahlian universitas       jurusan  tahun_masuk\n",
      "0  ikmal    Python         ITB   Informatika         2021\n",
      "1   dika  Otomotif          UI  Teknik Mesin         2019\n",
      "2  ripal   Editing       Unpad           DKV         2020\n"
     ]
    }
   ],
   "source": [
    "import sqlite3\n",
    "import pandas as pd\n",
    "\n",
    "# Membuka atau membuat database SQLite\n",
    "conn = sqlite3.connect('perpustakaan.db')\n",
    "\n",
    "cursor = conn.cursor()\n",
    "cursor.execute(\"\"\"\n",
    "DROP TABLE IF EXISTS buku\n",
    "\"\"\")\n",
    "cursor.execute(\"\"\"\n",
    "CREATE TABLE buku (\n",
    "    nama TEXT PRIMARY KEY,\n",
    "    keahlian TEXT,\n",
    "    universitas TEXT,\n",
    "    jurusan TEXT,\n",
    "    tahun_masuk INTEGER\n",
    ")\n",
    "\"\"\")\n",
    "\n",
    "# Menambahkan data baru dengan nama pada kolom 'nama'\n",
    "cursor.executescript(\"\"\"\n",
    "INSERT INTO buku (nama, keahlian, universitas, jurusan, tahun_masuk)\n",
    "VALUES\n",
    "('ikmal', 'Python', 'ITB', 'Informatika', 2021),\n",
    "('dika', 'Otomotif', 'UI', 'Teknik Mesin', 2019),\n",
    "('ripal', 'Editing', 'Unpad', 'DKV', 2020);\n",
    "\"\"\")\n",
    "\n",
    "# Membaca data dari tabel 'buku' dan menampilkannya sebagai DataFrame\n",
    "df = pd.read_sql_query(\"SELECT * FROM buku\", conn)\n",
    "print(\"\\nData dalam tabel 'buku':\")\n",
    "print(df)\n",
    "\n",
    "conn.close()\n"
   ]
  },
  {
   "cell_type": "code",
   "execution_count": null,
   "id": "d372a000-ec69-46e3-9b39-da83ce1327c6",
   "metadata": {},
   "outputs": [],
   "source": []
  }
 ],
 "metadata": {
  "kernelspec": {
   "display_name": "Python [conda env:base] *",
   "language": "python",
   "name": "conda-base-py"
  },
  "language_info": {
   "codemirror_mode": {
    "name": "ipython",
    "version": 3
   },
   "file_extension": ".py",
   "mimetype": "text/x-python",
   "name": "python",
   "nbconvert_exporter": "python",
   "pygments_lexer": "ipython3",
   "version": "3.12.3"
  }
 },
 "nbformat": 4,
 "nbformat_minor": 5
}
