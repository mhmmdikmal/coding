{
 "cells": [
  {
   "cell_type": "code",
   "execution_count": 15,
   "id": "500a4e66-aa3d-4211-ae4d-719854d99831",
   "metadata": {},
   "outputs": [],
   "source": [
    "import numpy as np "
   ]
  },
  {
   "cell_type": "code",
   "execution_count": 179,
   "id": "508edb0a-31c7-4a9e-bb98-3316dac740ce",
   "metadata": {},
   "outputs": [],
   "source": [
    "angka = np.arange(0,11)"
   ]
  },
  {
   "cell_type": "code",
   "execution_count": 181,
   "id": "e68fdc11-d77d-479d-a687-d90df6e91934",
   "metadata": {},
   "outputs": [
    {
     "data": {
      "text/plain": [
       "array([ 0,  1,  2,  3,  4,  5,  6,  7,  8,  9, 10])"
      ]
     },
     "execution_count": 181,
     "metadata": {},
     "output_type": "execute_result"
    }
   ],
   "source": [
    "angka"
   ]
  },
  {
   "cell_type": "code",
   "execution_count": 183,
   "id": "20aa8a7d-70bb-40e7-8ada-753e9bf62e2f",
   "metadata": {},
   "outputs": [
    {
     "data": {
      "text/plain": [
       "5"
      ]
     },
     "execution_count": 183,
     "metadata": {},
     "output_type": "execute_result"
    }
   ],
   "source": [
    "angka[5]"
   ]
  },
  {
   "cell_type": "code",
   "execution_count": 185,
   "id": "f172bed5-1197-453b-86b2-e5fa96c8f5d4",
   "metadata": {},
   "outputs": [
    {
     "data": {
      "text/plain": [
       "array([5, 6, 7, 8])"
      ]
     },
     "execution_count": 185,
     "metadata": {},
     "output_type": "execute_result"
    }
   ],
   "source": [
    "angka[5:9] # mengurutkan dari angka 5 sampe 8"
   ]
  },
  {
   "cell_type": "code",
   "execution_count": 193,
   "id": "b94c2457-c52c-4868-bd80-e107976619b4",
   "metadata": {},
   "outputs": [
    {
     "data": {
      "text/plain": [
       "array([ 5,  6,  7,  8,  9, 10])"
      ]
     },
     "execution_count": 193,
     "metadata": {},
     "output_type": "execute_result"
    }
   ],
   "source": [
    "angka[5:] "
   ]
  },
  {
   "cell_type": "code",
   "execution_count": 203,
   "id": "6dd269bc-53a9-412e-bea8-2da493586e6f",
   "metadata": {},
   "outputs": [
    {
     "data": {
      "text/plain": [
       "array([0, 1, 2, 3, 4, 5, 6, 7, 8])"
      ]
     },
     "execution_count": 203,
     "metadata": {},
     "output_type": "execute_result"
    }
   ],
   "source": [
    "angka[:9]"
   ]
  },
  {
   "cell_type": "code",
   "execution_count": 231,
   "id": "a390cdde-2a89-4ad2-ad02-5d058246605f",
   "metadata": {},
   "outputs": [],
   "source": [
    "angka2 = angka[:6] #tambahkan copy jika ingin mempertahankan nilai tetap pada angka1"
   ]
  },
  {
   "cell_type": "code",
   "execution_count": 233,
   "id": "448fecb2-4ad2-4a36-9571-a29eba810e34",
   "metadata": {},
   "outputs": [
    {
     "data": {
      "text/plain": [
       "array([200, 200, 200, 200, 200, 200])"
      ]
     },
     "execution_count": 233,
     "metadata": {},
     "output_type": "execute_result"
    }
   ],
   "source": [
    "angka2"
   ]
  },
  {
   "cell_type": "code",
   "execution_count": 235,
   "id": "1f786c9a-c303-488d-83f8-03b0c1bc67f2",
   "metadata": {},
   "outputs": [],
   "source": [
    "angka2[:] = 200"
   ]
  },
  {
   "cell_type": "code",
   "execution_count": 237,
   "id": "a1817703-c8ed-4409-a54b-40c7d7ece8ed",
   "metadata": {},
   "outputs": [
    {
     "data": {
      "text/plain": [
       "array([200, 200, 200, 200, 200, 200])"
      ]
     },
     "execution_count": 237,
     "metadata": {},
     "output_type": "execute_result"
    }
   ],
   "source": [
    "angka2"
   ]
  },
  {
   "cell_type": "code",
   "execution_count": 239,
   "id": "d636e5af-cccf-49cd-9800-ef6ccdd85565",
   "metadata": {},
   "outputs": [
    {
     "data": {
      "text/plain": [
       "array([200, 200, 200, 200, 200, 200,   6,   7,   8,   9,  10])"
      ]
     },
     "execution_count": 239,
     "metadata": {},
     "output_type": "execute_result"
    }
   ],
   "source": [
    "angka"
   ]
  },
  {
   "cell_type": "code",
   "execution_count": 215,
   "id": "8cd453e5-75c7-476f-9cad-1ea7f163ea28",
   "metadata": {},
   "outputs": [],
   "source": []
  },
  {
   "cell_type": "code",
   "execution_count": null,
   "id": "6271da5d-dd8d-4142-a1d1-640017f82b3d",
   "metadata": {},
   "outputs": [],
   "source": []
  }
 ],
 "metadata": {
  "kernelspec": {
   "display_name": "Python [conda env:base] *",
   "language": "python",
   "name": "conda-base-py"
  },
  "language_info": {
   "codemirror_mode": {
    "name": "ipython",
    "version": 3
   },
   "file_extension": ".py",
   "mimetype": "text/x-python",
   "name": "python",
   "nbconvert_exporter": "python",
   "pygments_lexer": "ipython3",
   "version": "3.12.3"
  }
 },
 "nbformat": 4,
 "nbformat_minor": 5
}
