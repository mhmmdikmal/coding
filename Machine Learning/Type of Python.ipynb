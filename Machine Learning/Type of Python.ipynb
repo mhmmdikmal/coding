{
 "cells": [
  {
   "cell_type": "code",
   "execution_count": 24,
   "id": "b2762e2d-6a20-49db-b79d-77ca0c713786",
   "metadata": {},
   "outputs": [
    {
     "name": "stdout",
     "output_type": "stream",
     "text": [
      "1 <class 'list'>\n",
      "2 <class 'dict'>\n",
      "3 <class 'str'>\n",
      "4 <class 'tuple'>\n",
      "5 <class 'int'>\n",
      "6 <class 'float'>\n",
      "7 <class 'bool'>\n"
     ]
    }
   ],
   "source": [
    "print(1 ,type([]))\n",
    "print(2, type({}))\n",
    "print(3, type(''))\n",
    "print(4, type(()))\n",
    "print(5, type(12))\n",
    "print(6, type(12.1))\n",
    "print(7, type(False)) #True or False"
   ]
  },
  {
   "cell_type": "code",
   "execution_count": null,
   "id": "e8159f4c-efd6-4dbe-aa98-f08397f83c37",
   "metadata": {},
   "outputs": [],
   "source": []
  }
 ],
 "metadata": {
  "kernelspec": {
   "display_name": "Python [conda env:base] *",
   "language": "python",
   "name": "conda-base-py"
  },
  "language_info": {
   "codemirror_mode": {
    "name": "ipython",
    "version": 3
   },
   "file_extension": ".py",
   "mimetype": "text/x-python",
   "name": "python",
   "nbconvert_exporter": "python",
   "pygments_lexer": "ipython3",
   "version": "3.12.3"
  }
 },
 "nbformat": 4,
 "nbformat_minor": 5
}
